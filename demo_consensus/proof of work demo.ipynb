{
 "cells": [
  {
   "cell_type": "code",
   "execution_count": 1,
   "metadata": {
    "collapsed": true
   },
   "outputs": [],
   "source": [
    "#Dependencies \n",
    "import hashlib\n",
    "import re\n",
    "import matplotlib.pyplot as plt"
   ]
  },
  {
   "cell_type": "markdown",
   "metadata": {},
   "source": [
    "# Proof of Work:\n",
    "## All the Pending Transactions would be taken and converted into a Merkle Tree Data Structure \n",
    "\n"
   ]
  },
  {
   "cell_type": "code",
   "execution_count": 54,
   "metadata": {},
   "outputs": [],
   "source": [
    "def get_merkel_root(list_of_transaction):\n",
    "    hash_alg = hashlib.sha256()\n",
    "    combined_trans_enc = ''.encode()\n",
    "    for transaction in list_of_transaction:\n",
    "        trans_enc = transaction.encode()\n",
    "        combined_trans_enc += trans_enc\n",
    "    hash_alg.update(combined_trans_enc)\n",
    "    root_hash = hash_alg.hexdigest()\n",
    "    return(root_hash)\n",
    "    "
   ]
  },
  {
   "cell_type": "code",
   "execution_count": 61,
   "metadata": {},
   "outputs": [
    {
     "data": {
      "text/plain": [
       "'c2197af3dc42440e009444d48061177d62138f9cf46a5d8652d0f46c53398aa3'"
      ]
     },
     "execution_count": 61,
     "metadata": {},
     "output_type": "execute_result"
    }
   ],
   "source": [
    "list_of_transactions = ['<ashu><mark><2BTC><13568384>'\n",
    "                       ,'<ashu><mike><6BTC><13568562>'\n",
    "                       ,'<mike><mark><7BTC><13568384>'\n",
    "                       ,'<john><mike><2BTC><13568562>'\n",
    "                       ,'<john><ashu><4BTC><13568384>'\n",
    "                       ,'<ashu><mike><2.6BTC><13568562>']\n",
    "get_merkel_root(list_of_transaction=list_of_transactions)"
   ]
  },
  {
   "cell_type": "markdown",
   "metadata": {},
   "source": [
    "## Hash of the Merkle Tree would be Broadcasted to all \"nodes\" or \"miners\"\n",
    "## The Miners would then append a \"nonce\" to Hash of the Merkle Tree and Hash it again.\n",
    "## Repeat this process with a new \"nonce\" till they hit the Validation Output"
   ]
  },
  {
   "cell_type": "code",
   "execution_count": 57,
   "metadata": {
    "collapsed": true
   },
   "outputs": [],
   "source": [
    "\n",
    "\"\"\"\n",
    "Function to calculate a \"nonce\" for any given \"RootHashKey\"\n",
    "which can be verified that the output starts with a \n",
    "X number of zeroes determined by the difficulty set by the\n",
    "smart contract  \n",
    "\"\"\"\n",
    "def get_nonce(msg=get_merkel_root(list_of_transaction=list_of_transactions)\n",
    "              , difficulty = 4):\n",
    "    hash_found = False\n",
    "    nonce = 0\n",
    "    msg = msg\n",
    "    target = difficulty*'0'\n",
    "    target = '^'+target+'+'\n",
    "    while not(hash_found):\n",
    "        nonce=nonce+1\n",
    "        root_hash = hashlib.sha256()\n",
    "        byte_msg = msg.encode()\n",
    "        secretKey = str(nonce).encode()\n",
    "        root_hash.update(byte_msg + secretKey)\n",
    "        verification_hash = root_hash.hexdigest()\n",
    "        if(re.match(target, verification_hash)):\n",
    "            hash_found =True\n",
    "            print(verification_hash)\n",
    "    return(nonce)"
   ]
  },
  {
   "cell_type": "code",
   "execution_count": 58,
   "metadata": {},
   "outputs": [
    {
     "name": "stdout",
     "output_type": "stream",
     "text": [
      "0093e3287df08cfe60e46fe5e825e84dbca10fc4c56aa2818ec4a4379ddf63be\n",
      "000529d49a9a42ba919928fcc7f1e7681384d2ad4b5e5e63d13ed41898af8305\n",
      "000006a1ccac6f62e60746b9e7008bfe64c22d4e33e3d4fe3c79741d812cc131\n",
      "000006a1ccac6f62e60746b9e7008bfe64c22d4e33e3d4fe3c79741d812cc131\n"
     ]
    },
    {
     "data": {
      "image/png": "[encoded data removed]",
      "text/plain": [
       "<matplotlib.figure.Figure at 0x10c043860>"
      ]
     },
     "metadata": {},
     "output_type": "display_data"
    }
   ],
   "source": [
    "nounce_range=[]\n",
    "for difficulty in range(2,6):\n",
    "    nounce_range.append(get_nonce(difficulty=difficulty))\n",
    "plt.plot(nounce_range,[2,3,4,5])\n",
    "plt.xlabel(\"Number of Operations\")\n",
    "plt.ylabel(\"Difficulty Level\")\n",
    "plt.title(\"Difficulty vs Number of Operations to get nonce\")\n",
    "plt.show()"
   ]
  },
  {
   "cell_type": "code",
   "execution_count": 62,
   "metadata": {},
   "outputs": [
    {
     "name": "stdout",
     "output_type": "stream",
     "text": [
      "0000bdf76e4db7aa69905288e7c46baddb483509c0a7a43e7a5c83d0d549c816\n"
     ]
    },
    {
     "data": {
      "text/plain": [
       "24120"
      ]
     },
     "execution_count": 62,
     "metadata": {},
     "output_type": "execute_result"
    }
   ],
   "source": [
    "get_nonce(msg=get_merkel_root(list_of_transaction=list_of_transactions)\n",
    "          ,difficulty=4)"
   ]
  },
  {
   "cell_type": "code",
   "execution_count": 64,
   "metadata": {
    "collapsed": true
   },
   "outputs": [],
   "source": [
    "def verify_nonce(nonce\n",
    "                 , msg='RootHashKey'\n",
    "                 ,difficulty = 4):\n",
    "    hash_found = False\n",
    "    target = difficulty*'0'\n",
    "    target = '^'+target+'*'\n",
    "    root_hash = hashlib.sha256()\n",
    "    byte_msg = msg.encode()\n",
    "    secretKey = str(nonce).encode()\n",
    "    root_hash.update(byte_msg + secretKey)\n",
    "    verification_hash = root_hash.hexdigest()\n",
    "    if(re.match(target, verification_hash)):\n",
    "        print(\"Nonce Verified, now this Block can be added\")\n",
    "        print(verification_hash)\n",
    "    else:\n",
    "        print(\"Nonce isn't acceptable\")"
   ]
  },
  {
   "cell_type": "code",
   "execution_count": 65,
   "metadata": {},
   "outputs": [
    {
     "name": "stdout",
     "output_type": "stream",
     "text": [
      "Nonce isn't acceptable\n"
     ]
    }
   ],
   "source": [
    "verify_nonce(nonce=8407\n",
    "             ,msg=get_merkel_root(list_of_transaction=list_of_transactions)\n",
    "             ,difficulty=4)"
   ]
  },
  {
   "cell_type": "code",
   "execution_count": null,
   "metadata": {
    "collapsed": true
   },
   "outputs": [],
   "source": []
  },
  {
   "cell_type": "code",
   "execution_count": null,
   "metadata": {},
   "outputs": [],
   "source": []
  },
  {
   "cell_type": "code",
   "execution_count": null,
   "metadata": {},
   "outputs": [],
   "source": []
  },
  {
   "cell_type": "code",
   "execution_count": null,
   "metadata": {
    "collapsed": true
   },
   "outputs": [],
   "source": [
    "\n"
   ]
  },
  {
   "cell_type": "code",
   "execution_count": null,
   "metadata": {
    "collapsed": true
   },
   "outputs": [],
   "source": []
  },
  {
   "cell_type": "code",
   "execution_count": null,
   "metadata": {
    "collapsed": true
   },
   "outputs": [],
   "source": []
  }
 ],
 "metadata": {
  "kernelspec": {
   "display_name": "Python 3",
   "language": "python",
   "name": "python3"
  },
  "language_info": {
   "codemirror_mode": {
    "name": "ipython",
    "version": 3
   },
   "file_extension": ".py",
   "mimetype": "text/x-python",
   "name": "python",
   "nbconvert_exporter": "python",
   "pygments_lexer": "ipython3",
   "version": "3.6.1"
  }
 },
 "nbformat": 4,
 "nbformat_minor": 2
}
