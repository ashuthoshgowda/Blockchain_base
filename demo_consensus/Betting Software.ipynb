{
 "cells": [
  {
   "cell_type": "code",
   "execution_count": 19,
   "metadata": {
    "collapsed": true
   },
   "outputs": [],
   "source": [
    "\n",
    "# imports\n",
    "import hashlib\n",
    "import time\n",
    "class ContractBlock(object):\n",
    "    \"\"\"\n",
    "    docstring for ContractBlock.\n",
    "    bet_Id  is unique identifier to each bets\n",
    "    bet_amount indicated how much the user has bet on bet_Id\n",
    "    game_Id is unique identifier for the game that bet_Id is linked to\n",
    "\n",
    "    \"\"\"\n",
    "    def __init__(self, bet_Id, bet_amount, game, prev_hash):\n",
    "        #super(CBlock, self).__init__()\n",
    "        self.bet_Id = bet_Id\n",
    "        self.bet_amount = bet_amount\n",
    "        self.game = game\n",
    "        self.prev_hash = prev_hash\n",
    "        self.timeStamp = time.time()\n",
    "\n",
    "    \"\"\"\n",
    "    Think this must be moved to Block.h\n",
    "    \"\"\"\n",
    "    def get_hash(self):\n",
    "        input_to_hash = \"<{bet_Id}><{bet_amount}><{game_Id}>\".format(bet_Id=self.bet_Id,\n",
    "                                                                     bet_amount=self.bet_amount,\n",
    "                                                                     game_Id=self.game.game_Id)\n",
    "        temp_hash = hashlib.sha256()\n",
    "        byte_msg = input_to_hash.encode()\n",
    "        temp_hash.update(byte_msg)\n",
    "        contract_hash = temp_hash.hexdigest()\n",
    "\n",
    "        return(contract_hash)\n"
   ]
  },
  {
   "cell_type": "code",
   "execution_count": 20,
   "metadata": {
    "collapsed": true
   },
   "outputs": [],
   "source": [
    "class Game(object):\n",
    "    \"\"\"\n",
    "    docstring for Game.\n",
    "    game_Id = Unique Identifiers for each game    \n",
    "    \"\"\"\n",
    "    def __init__(self, game_Id, outcome):\n",
    "        self.game_Id = game_Id\n",
    "        self.outcome = outcome\n",
    "\n"
   ]
  },
  {
   "cell_type": "code",
   "execution_count": 49,
   "metadata": {
    "collapsed": true
   },
   "outputs": [],
   "source": [
    "def create_genesis_blockchain(genesis):\n",
    "    Blockchain=[genesis]\n",
    "\n",
    "def create_gensis():\n",
    "    game0 = Game(game_Id=0, outcome=0)\n",
    "    genesis = ContractBlock(bet_Id=0, bet_amount=0, game=game0, prev_hash=0)\n",
    "    return(genesis)\n",
    "        "
   ]
  },
  {
   "cell_type": "code",
   "execution_count": 50,
   "metadata": {
    "collapsed": true
   },
   "outputs": [],
   "source": [
    "def append_block(game_Id, outcome, bet_Id, bet_amount, Blockchain):\n",
    "    game = Game(game_Id=game_Id, outcome=outcome)\n",
    "    ContractBlock = ContractBlock(bet_Id=bet_Id,\n",
    "                                 bet_amount= bet_amount,\n",
    "                                 game=game,\n",
    "                                 prev_hash=Blockchain[-1].get_hash())\n",
    "    Blockchain.append(ContractBlock)\n",
    "    return(Blockchain)"
   ]
  },
  {
   "cell_type": "code",
   "execution_count": 44,
   "metadata": {
    "collapsed": true
   },
   "outputs": [],
   "source": [
    "game1 = Game(game_Id=123, outcome=1)\n",
    "ContractBlock1 = ContractBlock(bet_Id=123,\n",
    "                               bet_amount=200,\n",
    "                               game=game1,\n",
    "                               prev_hash=create_gensis().get_hash())"
   ]
  },
  {
   "cell_type": "code",
   "execution_count": 45,
   "metadata": {
    "collapsed": true
   },
   "outputs": [],
   "source": [
    "game2 = Game(game_Id=223, outcome=0)\n",
    "ContractBlock2 = ContractBlock(bet_Id=123,\n",
    "                               bet_amount=500,\n",
    "                               game=game2,\n",
    "                               prev_hash=ContractBlock1.get_hash())"
   ]
  },
  {
   "cell_type": "code",
   "execution_count": null,
   "metadata": {},
   "outputs": [],
   "source": []
  },
  {
   "cell_type": "code",
   "execution_count": null,
   "metadata": {},
   "outputs": [],
   "source": []
  },
  {
   "cell_type": "code",
   "execution_count": null,
   "metadata": {
    "collapsed": true
   },
   "outputs": [],
   "source": [
    "Blockchain=[]\n"
   ]
  }
 ],
 "metadata": {
  "kernelspec": {
   "display_name": "Python 3",
   "language": "python",
   "name": "python3"
  },
  "language_info": {
   "codemirror_mode": {
    "name": "ipython",
    "version": 3
   },
   "file_extension": ".py",
   "mimetype": "text/x-python",
   "name": "python",
   "nbconvert_exporter": "python",
   "pygments_lexer": "ipython3",
   "version": "3.6.1"
  }
 },
 "nbformat": 4,
 "nbformat_minor": 2
}
